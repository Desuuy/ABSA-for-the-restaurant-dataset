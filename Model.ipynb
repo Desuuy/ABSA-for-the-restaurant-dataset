{
  "nbformat": 4,
  "nbformat_minor": 0,
  "metadata": {
    "colab": {
      "provenance": [],
      "gpuType": "T4"
    },
    "kernelspec": {
      "name": "python3",
      "display_name": "Python 3"
    },
    "language_info": {
      "name": "python"
    },
    "accelerator": "GPU"
  },
  "cells": [
    {
      "cell_type": "code",
      "execution_count": null,
      "metadata": {
        "colab": {
          "base_uri": "https://localhost:8080/"
        },
        "id": "g2fLGZuqnz_D",
        "outputId": "c34f6269-f85e-46b7-be03-443602f9f03d"
      },
      "outputs": [
        {
          "output_type": "stream",
          "name": "stdout",
          "text": [
            "Mounted at /content/drive\n"
          ]
        }
      ],
      "source": [
        "from google.colab import drive\n",
        "drive.mount('/content/drive')"
      ]
    },
    {
      "cell_type": "code",
      "source": [
        "!pip install underthesea gensim torchinfo -q"
      ],
      "metadata": {
        "id": "uj4u7aL_pRBJ",
        "colab": {
          "base_uri": "https://localhost:8080/"
        },
        "outputId": "856948af-29e7-4cf8-c93c-7e1aaa1a4c7d"
      },
      "execution_count": null,
      "outputs": [
        {
          "output_type": "stream",
          "name": "stdout",
          "text": [
            "\u001b[2K     \u001b[90m━━━━━━━━━━━━━━━━━━━━━━━━━━━━━━━━━━━━━━━━\u001b[0m \u001b[32m61.0/61.0 kB\u001b[0m \u001b[31m4.0 MB/s\u001b[0m eta \u001b[36m0:00:00\u001b[0m\n",
            "\u001b[2K     \u001b[90m━━━━━━━━━━━━━━━━━━━━━━━━━━━━━━━━━━━━━━━━\u001b[0m \u001b[32m60.6/60.6 kB\u001b[0m \u001b[31m4.8 MB/s\u001b[0m eta \u001b[36m0:00:00\u001b[0m\n",
            "\u001b[2K   \u001b[90m━━━━━━━━━━━━━━━━━━━━━━━━━━━━━━━━━━━━━━━━\u001b[0m \u001b[32m20.9/20.9 MB\u001b[0m \u001b[31m89.1 MB/s\u001b[0m eta \u001b[36m0:00:00\u001b[0m\n",
            "\u001b[2K   \u001b[90m━━━━━━━━━━━━━━━━━━━━━━━━━━━━━━━━━━━━━━━━\u001b[0m \u001b[32m657.8/657.8 kB\u001b[0m \u001b[31m47.2 MB/s\u001b[0m eta \u001b[36m0:00:00\u001b[0m\n",
            "\u001b[2K   \u001b[90m━━━━━━━━━━━━━━━━━━━━━━━━━━━━━━━━━━━━━━━━\u001b[0m \u001b[32m26.7/26.7 MB\u001b[0m \u001b[31m88.7 MB/s\u001b[0m eta \u001b[36m0:00:00\u001b[0m\n",
            "\u001b[2K   \u001b[90m━━━━━━━━━━━━━━━━━━━━━━━━━━━━━━━━━━━━━━━━\u001b[0m \u001b[32m18.3/18.3 MB\u001b[0m \u001b[31m110.6 MB/s\u001b[0m eta \u001b[36m0:00:00\u001b[0m\n",
            "\u001b[2K   \u001b[90m━━━━━━━━━━━━━━━━━━━━━━━━━━━━━━━━━━━━━━━━\u001b[0m \u001b[32m1.3/1.3 MB\u001b[0m \u001b[31m64.7 MB/s\u001b[0m eta \u001b[36m0:00:00\u001b[0m\n",
            "\u001b[2K   \u001b[90m━━━━━━━━━━━━━━━━━━━━━━━━━━━━━━━━━━━━━━━━\u001b[0m \u001b[32m38.6/38.6 MB\u001b[0m \u001b[31m13.7 MB/s\u001b[0m eta \u001b[36m0:00:00\u001b[0m\n",
            "\u001b[?25h\u001b[31mERROR: pip's dependency resolver does not currently take into account all the packages that are installed. This behaviour is the source of the following dependency conflicts.\n",
            "tsfresh 0.21.0 requires scipy>=1.14.0; python_version >= \"3.10\", but you have scipy 1.13.1 which is incompatible.\n",
            "opencv-python-headless 4.12.0.88 requires numpy<2.3.0,>=2; python_version >= \"3.9\", but you have numpy 1.26.4 which is incompatible.\n",
            "thinc 8.3.6 requires numpy<3.0.0,>=2.0.0, but you have numpy 1.26.4 which is incompatible.\u001b[0m\u001b[31m\n",
            "\u001b[0m"
          ]
        }
      ]
    },
    {
      "cell_type": "code",
      "source": [
        "!pip uninstall numpy pandas -y\n",
        "!pip install numpy pandas --upgrade --force-reinstall\n"
      ],
      "metadata": {
        "colab": {
          "base_uri": "https://localhost:8080/",
          "height": 1000
        },
        "id": "ZjyNAQJZ2jaG",
        "outputId": "ad924eba-032c-4563-b07b-6282bdb40253"
      },
      "execution_count": null,
      "outputs": [
        {
          "output_type": "stream",
          "name": "stdout",
          "text": [
            "Found existing installation: numpy 1.26.4\n",
            "Uninstalling numpy-1.26.4:\n",
            "  Successfully uninstalled numpy-1.26.4\n",
            "Found existing installation: pandas 2.2.2\n",
            "Uninstalling pandas-2.2.2:\n",
            "  Successfully uninstalled pandas-2.2.2\n",
            "Collecting numpy\n",
            "  Downloading numpy-2.3.1-cp311-cp311-manylinux_2_28_x86_64.whl.metadata (62 kB)\n",
            "\u001b[2K     \u001b[90m━━━━━━━━━━━━━━━━━━━━━━━━━━━━━━━━━━━━━━━━\u001b[0m \u001b[32m62.1/62.1 kB\u001b[0m \u001b[31m4.2 MB/s\u001b[0m eta \u001b[36m0:00:00\u001b[0m\n",
            "\u001b[?25hCollecting pandas\n",
            "  Downloading pandas-2.3.1-cp311-cp311-manylinux_2_17_x86_64.manylinux2014_x86_64.whl.metadata (91 kB)\n",
            "\u001b[2K     \u001b[90m━━━━━━━━━━━━━━━━━━━━━━━━━━━━━━━━━━━━━━━━\u001b[0m \u001b[32m91.2/91.2 kB\u001b[0m \u001b[31m8.1 MB/s\u001b[0m eta \u001b[36m0:00:00\u001b[0m\n",
            "\u001b[?25hCollecting python-dateutil>=2.8.2 (from pandas)\n",
            "  Downloading python_dateutil-2.9.0.post0-py2.py3-none-any.whl.metadata (8.4 kB)\n",
            "Collecting pytz>=2020.1 (from pandas)\n",
            "  Downloading pytz-2025.2-py2.py3-none-any.whl.metadata (22 kB)\n",
            "Collecting tzdata>=2022.7 (from pandas)\n",
            "  Downloading tzdata-2025.2-py2.py3-none-any.whl.metadata (1.4 kB)\n",
            "Collecting six>=1.5 (from python-dateutil>=2.8.2->pandas)\n",
            "  Downloading six-1.17.0-py2.py3-none-any.whl.metadata (1.7 kB)\n",
            "Downloading numpy-2.3.1-cp311-cp311-manylinux_2_28_x86_64.whl (16.9 MB)\n",
            "\u001b[2K   \u001b[90m━━━━━━━━━━━━━━━━━━━━━━━━━━━━━━━━━━━━━━━━\u001b[0m \u001b[32m16.9/16.9 MB\u001b[0m \u001b[31m85.1 MB/s\u001b[0m eta \u001b[36m0:00:00\u001b[0m\n",
            "\u001b[?25hDownloading pandas-2.3.1-cp311-cp311-manylinux_2_17_x86_64.manylinux2014_x86_64.whl (12.4 MB)\n",
            "\u001b[2K   \u001b[90m━━━━━━━━━━━━━━━━━━━━━━━━━━━━━━━━━━━━━━━━\u001b[0m \u001b[32m12.4/12.4 MB\u001b[0m \u001b[31m103.0 MB/s\u001b[0m eta \u001b[36m0:00:00\u001b[0m\n",
            "\u001b[?25hDownloading python_dateutil-2.9.0.post0-py2.py3-none-any.whl (229 kB)\n",
            "\u001b[2K   \u001b[90m━━━━━━━━━━━━━━━━━━━━━━━━━━━━━━━━━━━━━━━━\u001b[0m \u001b[32m229.9/229.9 kB\u001b[0m \u001b[31m24.0 MB/s\u001b[0m eta \u001b[36m0:00:00\u001b[0m\n",
            "\u001b[?25hDownloading pytz-2025.2-py2.py3-none-any.whl (509 kB)\n",
            "\u001b[2K   \u001b[90m━━━━━━━━━━━━━━━━━━━━━━━━━━━━━━━━━━━━━━━━\u001b[0m \u001b[32m509.2/509.2 kB\u001b[0m \u001b[31m36.8 MB/s\u001b[0m eta \u001b[36m0:00:00\u001b[0m\n",
            "\u001b[?25hDownloading tzdata-2025.2-py2.py3-none-any.whl (347 kB)\n",
            "\u001b[2K   \u001b[90m━━━━━━━━━━━━━━━━━━━━━━━━━━━━━━━━━━━━━━━━\u001b[0m \u001b[32m347.8/347.8 kB\u001b[0m \u001b[31m31.4 MB/s\u001b[0m eta \u001b[36m0:00:00\u001b[0m\n",
            "\u001b[?25hDownloading six-1.17.0-py2.py3-none-any.whl (11 kB)\n",
            "Installing collected packages: pytz, tzdata, six, numpy, python-dateutil, pandas\n",
            "  Attempting uninstall: pytz\n",
            "    Found existing installation: pytz 2025.2\n",
            "    Uninstalling pytz-2025.2:\n",
            "      Successfully uninstalled pytz-2025.2\n",
            "  Attempting uninstall: tzdata\n",
            "    Found existing installation: tzdata 2025.2\n",
            "    Uninstalling tzdata-2025.2:\n",
            "      Successfully uninstalled tzdata-2025.2\n",
            "  Attempting uninstall: six\n",
            "    Found existing installation: six 1.17.0\n",
            "    Uninstalling six-1.17.0:\n",
            "      Successfully uninstalled six-1.17.0\n",
            "  Attempting uninstall: python-dateutil\n",
            "    Found existing installation: python-dateutil 2.9.0.post0\n",
            "    Uninstalling python-dateutil-2.9.0.post0:\n",
            "      Successfully uninstalled python-dateutil-2.9.0.post0\n",
            "\u001b[31mERROR: pip's dependency resolver does not currently take into account all the packages that are installed. This behaviour is the source of the following dependency conflicts.\n",
            "scipy 1.13.1 requires numpy<2.3,>=1.22.4, but you have numpy 2.3.1 which is incompatible.\n",
            "gensim 4.3.3 requires numpy<2.0,>=1.18.5, but you have numpy 2.3.1 which is incompatible.\n",
            "google-colab 1.0.0 requires pandas==2.2.2, but you have pandas 2.3.1 which is incompatible.\n",
            "tsfresh 0.21.0 requires scipy>=1.14.0; python_version >= \"3.10\", but you have scipy 1.13.1 which is incompatible.\n",
            "opencv-python-headless 4.12.0.88 requires numpy<2.3.0,>=2; python_version >= \"3.9\", but you have numpy 2.3.1 which is incompatible.\n",
            "cudf-cu12 25.6.0 requires pandas<2.2.4dev0,>=2.0, but you have pandas 2.3.1 which is incompatible.\n",
            "dask-cudf-cu12 25.6.0 requires pandas<2.2.4dev0,>=2.0, but you have pandas 2.3.1 which is incompatible.\n",
            "tensorflow 2.18.0 requires numpy<2.1.0,>=1.26.0, but you have numpy 2.3.1 which is incompatible.\n",
            "numba 0.60.0 requires numpy<2.1,>=1.22, but you have numpy 2.3.1 which is incompatible.\n",
            "cupy-cuda12x 13.3.0 requires numpy<2.3,>=1.22, but you have numpy 2.3.1 which is incompatible.\u001b[0m\u001b[31m\n",
            "\u001b[0mSuccessfully installed numpy-2.3.1 pandas-2.3.1 python-dateutil-2.9.0.post0 pytz-2025.2 six-1.17.0 tzdata-2025.2\n"
          ]
        },
        {
          "output_type": "display_data",
          "data": {
            "application/vnd.colab-display-data+json": {
              "pip_warning": {
                "packages": [
                  "dateutil",
                  "numpy",
                  "six"
                ]
              },
              "id": "889fadcc2c284906baef957364e25be6"
            }
          },
          "metadata": {}
        }
      ]
    },
    {
      "cell_type": "code",
      "source": [
        "!pip install numpy==1.24.4 --force-reinstall\n",
        "!pip install --force-reinstall gensim seaborn scipy\n"
      ],
      "metadata": {
        "colab": {
          "base_uri": "https://localhost:8080/",
          "height": 878
        },
        "id": "sAIUjct63FqO",
        "outputId": "7bfdb4dd-1be8-4e11-b2ff-12f6a1b81aa6"
      },
      "execution_count": null,
      "outputs": [
        {
          "output_type": "stream",
          "name": "stdout",
          "text": [
            "Collecting numpy==1.24.4\n",
            "  Downloading numpy-1.24.4-cp311-cp311-manylinux_2_17_x86_64.manylinux2014_x86_64.whl.metadata (5.6 kB)\n",
            "Downloading numpy-1.24.4-cp311-cp311-manylinux_2_17_x86_64.manylinux2014_x86_64.whl (17.3 MB)\n",
            "\u001b[2K   \u001b[90m━━━━━━━━━━━━━━━━━━━━━━━━━━━━━━━━━━━━━━━━\u001b[0m \u001b[32m17.3/17.3 MB\u001b[0m \u001b[31m47.3 MB/s\u001b[0m eta \u001b[36m0:00:00\u001b[0m\n",
            "\u001b[?25hInstalling collected packages: numpy\n",
            "  Attempting uninstall: numpy\n",
            "    Found existing installation: numpy 2.3.1\n",
            "    Uninstalling numpy-2.3.1:\n",
            "      Successfully uninstalled numpy-2.3.1\n",
            "\u001b[31mERROR: pip's dependency resolver does not currently take into account all the packages that are installed. This behaviour is the source of the following dependency conflicts.\n",
            "google-colab 1.0.0 requires pandas==2.2.2, but you have pandas 2.3.1 which is incompatible.\n",
            "tsfresh 0.21.0 requires scipy>=1.14.0; python_version >= \"3.10\", but you have scipy 1.13.1 which is incompatible.\n",
            "xarray-einstats 0.9.1 requires numpy>=1.25, but you have numpy 1.24.4 which is incompatible.\n",
            "pymc 5.24.0 requires numpy>=1.25.0, but you have numpy 1.24.4 which is incompatible.\n",
            "jax 0.5.2 requires numpy>=1.25, but you have numpy 1.24.4 which is incompatible.\n",
            "jaxlib 0.5.1 requires numpy>=1.25, but you have numpy 1.24.4 which is incompatible.\n",
            "opencv-python-headless 4.12.0.88 requires numpy<2.3.0,>=2; python_version >= \"3.9\", but you have numpy 1.24.4 which is incompatible.\n",
            "cudf-cu12 25.6.0 requires pandas<2.2.4dev0,>=2.0, but you have pandas 2.3.1 which is incompatible.\n",
            "blosc2 3.6.1 requires numpy>=1.26, but you have numpy 1.24.4 which is incompatible.\n",
            "treescope 0.1.9 requires numpy>=1.25.2, but you have numpy 1.24.4 which is incompatible.\n",
            "thinc 8.3.6 requires numpy<3.0.0,>=2.0.0, but you have numpy 1.24.4 which is incompatible.\n",
            "dask-cudf-cu12 25.6.0 requires pandas<2.2.4dev0,>=2.0, but you have pandas 2.3.1 which is incompatible.\n",
            "tensorflow 2.18.0 requires numpy<2.1.0,>=1.26.0, but you have numpy 1.24.4 which is incompatible.\u001b[0m\u001b[31m\n",
            "\u001b[0mSuccessfully installed numpy-1.24.4\n"
          ]
        },
        {
          "output_type": "display_data",
          "data": {
            "application/vnd.colab-display-data+json": {
              "pip_warning": {
                "packages": [
                  "numpy"
                ]
              },
              "id": "73afe574cf3f4e19b6940e4152133c52"
            }
          },
          "metadata": {}
        },
        {
          "output_type": "stream",
          "name": "stdout",
          "text": [
            "Collecting gensim\n",
            "  Using cached gensim-4.3.3-cp311-cp311-manylinux_2_17_x86_64.manylinux2014_x86_64.whl.metadata (8.1 kB)\n",
            "Collecting seaborn\n",
            "  Downloading seaborn-0.13.2-py3-none-any.whl.metadata (5.4 kB)\n",
            "Collecting scipy\n",
            "  Downloading scipy-1.16.0-cp311-cp311-manylinux2014_x86_64.manylinux_2_17_x86_64.whl.metadata (61 kB)\n",
            "\u001b[2K     \u001b[90m━━━━━━━━━━━━━━━━━━━━━━━━━━━━━━━━━━━━━━━━\u001b[0m \u001b[32m61.9/61.9 kB\u001b[0m \u001b[31m5.6 MB/s\u001b[0m eta \u001b[36m0:00:00\u001b[0m\n",
            "\u001b[?25hCollecting numpy<2.0,>=1.18.5 (from gensim)\n",
            "  Using cached numpy-1.26.4-cp311-cp311-manylinux_2_17_x86_64.manylinux2014_x86_64.whl.metadata (61 kB)\n",
            "Collecting scipy\n",
            "  Using cached scipy-1.13.1-cp311-cp311-manylinux_2_17_x86_64.manylinux2014_x86_64.whl.metadata (60 kB)\n",
            "Collecting smart-open>=1.8.1 (from gensim)\n",
            "  Downloading smart_open-7.3.0.post1-py3-none-any.whl.metadata (24 kB)\n",
            "Collecting pandas>=1.2 (from seaborn)\n",
            "  Using cached pandas-2.3.1-cp311-cp311-manylinux_2_17_x86_64.manylinux2014_x86_64.whl.metadata (91 kB)\n",
            "Collecting matplotlib!=3.6.1,>=3.4 (from seaborn)\n",
            "  Downloading matplotlib-3.10.3-cp311-cp311-manylinux_2_17_x86_64.manylinux2014_x86_64.whl.metadata (11 kB)\n",
            "Traceback (most recent call last):\n",
            "  File \"/usr/local/lib/python3.11/dist-packages/pip/_internal/cli/base_command.py\", line 179, in exc_logging_wrapper\n",
            "^C\n"
          ]
        }
      ]
    },
    {
      "cell_type": "code",
      "source": [
        "import numpy as np\n",
        "import matplotlib.pyplot as plt\n",
        "import pandas as pd\n",
        "import seaborn as sns\n",
        "\n",
        "import torch\n",
        "import torch.nn as nn\n",
        "import torch.nn.functional as F\n",
        "from torch.utils.data import Dataset, DataLoader\n",
        "from torchinfo import summary\n",
        "\n",
        "from gensim.models import KeyedVectors\n",
        "from sklearn.model_selection import train_test_split\n",
        "from sklearn.metrics import classification_report, accuracy_score, precision_score, recall_score, f1_score, confusion_matrix\n",
        "from underthesea import word_tokenize"
      ],
      "metadata": {
        "id": "lIRqDt7DpEwS"
      },
      "execution_count": null,
      "outputs": []
    },
    {
      "cell_type": "markdown",
      "source": [
        "Load dữ liệu"
      ],
      "metadata": {
        "id": "wtURjwFsxrJj"
      }
    },
    {
      "cell_type": "code",
      "source": [
        "train_df = pd.read_csv(\"/content/drive/MyDrive/Colab Notebooks/Dataset/Preprocessing/processed_Newdatatrain.csv\")\n",
        "dev_df = pd.read_csv(\"/content/drive/MyDrive/Colab Notebooks/Dataset/Preprocessing/processed_Newdatadev.csv\")\n",
        "test_df = pd.read_csv(\"/content/drive/MyDrive/Colab Notebooks/Dataset/Preprocessing/processed_Newdatadev.csv\")\n",
        "\n",
        "ASPECT_COLUMNS = train_df.columns[1:]\n",
        "LABEL_MAP = {0: 0, 1: 1, 2: 2, 3: 3}"
      ],
      "metadata": {
        "id": "7aEm0X3juYYR"
      },
      "execution_count": null,
      "outputs": []
    },
    {
      "cell_type": "markdown",
      "source": [
        "Word2Vec"
      ],
      "metadata": {
        "id": "oaEVXchCxtKK"
      }
    },
    {
      "cell_type": "code",
      "source": [
        "word2vec = KeyedVectors.load_word2vec_format(\"/content/drive/MyDrive/Colab Notebooks/Dataset/wiki.vi.model.bin/wiki.vi.model.bin\", binary=True)\n",
        "embedding_dim = word2vec.vector_size\n",
        "\n",
        "def tokenize(text):\n",
        "    return word_tokenize(text, format=\"text\").split()\n",
        "\n",
        "all_tokens = set()\n",
        "for text in pd.concat([train_df[\"Review\"], dev_df[\"Review\"], test_df[\"Review\"]]):\n",
        "    all_tokens.update(tokenize(text))\n",
        "\n",
        "word2idx = {\"<pad>\": 0, \"<unk>\": 1}\n",
        "embeddings = [torch.zeros(embedding_dim), torch.randn(embedding_dim)]\n",
        "for word in all_tokens:\n",
        "    if word in word2vec:\n",
        "        word2idx[word] = len(word2idx)\n",
        "        embeddings.append(torch.tensor(word2vec[word]))\n",
        "embedding_matrix = torch.stack(embeddings)"
      ],
      "metadata": {
        "id": "SyO52BmYueAj"
      },
      "execution_count": null,
      "outputs": []
    },
    {
      "cell_type": "markdown",
      "source": [
        "Dataset"
      ],
      "metadata": {
        "id": "Z93G_hJWxwe8"
      }
    },
    {
      "cell_type": "code",
      "source": [
        "class RestaurantDataset(Dataset):\n",
        "    def __init__(self, dataframe, word2idx, tokenizer, max_len=100):\n",
        "        self.texts = dataframe['Review'].tolist()\n",
        "        self.labels = dataframe[ASPECT_COLUMNS].apply(lambda col: col.map(lambda x: LABEL_MAP[x])).values\n",
        "        self.word2idx = word2idx\n",
        "        self.tokenizer = tokenizer\n",
        "        self.max_len = max_len\n",
        "\n",
        "    def __len__(self):\n",
        "        return len(self.texts)\n",
        "\n",
        "    def __getitem__(self, idx):\n",
        "        tokens = self.tokenizer(self.texts[idx])\n",
        "        ids = [self.word2idx.get(tok, self.word2idx[\"<unk>\"]) for tok in tokens]\n",
        "        if len(ids) < self.max_len:\n",
        "            ids += [self.word2idx[\"<pad>\"]] * (self.max_len - len(ids))\n",
        "        else:\n",
        "            ids = ids[:self.max_len]\n",
        "        return {\n",
        "            \"input_ids\": torch.tensor(ids, dtype=torch.long),\n",
        "            \"labels\": torch.tensor(self.labels[idx], dtype=torch.long)\n",
        "        }"
      ],
      "metadata": {
        "id": "kTxV2OySuhhN"
      },
      "execution_count": null,
      "outputs": []
    },
    {
      "cell_type": "markdown",
      "source": [
        "Model"
      ],
      "metadata": {
        "id": "vdEKD5HuxyI1"
      }
    },
    {
      "cell_type": "code",
      "source": [
        "class BiLSTMMultiTaskModel(nn.Module):\n",
        "    def __init__(self, embedding_matrix, hidden_dim=256, num_aspects=34, num_classes=4):\n",
        "        super().__init__()\n",
        "        num_embeddings, embed_dim = embedding_matrix.size()\n",
        "        self.embedding = nn.Embedding.from_pretrained(embedding_matrix, freeze=False, padding_idx=0)\n",
        "        self.lstm = nn.LSTM(embed_dim, hidden_dim, batch_first=True, bidirectional=True)\n",
        "        self.classifier = nn.Linear(hidden_dim * 2, num_aspects * num_classes)\n",
        "        self.num_aspects = num_aspects\n",
        "        self.num_classes = num_classes\n",
        "\n",
        "    def forward(self, input_ids):\n",
        "        x = self.embedding(input_ids)\n",
        "        _, (hidden, _) = self.lstm(x)\n",
        "        h = torch.cat((hidden[0], hidden[1]), dim=-1)\n",
        "        logits = self.classifier(h)\n",
        "        return logits.view(-1, self.num_aspects, self.num_classes)"
      ],
      "metadata": {
        "id": "DVxG1CfwukPK"
      },
      "execution_count": null,
      "outputs": []
    },
    {
      "cell_type": "code",
      "source": [
        "device = torch.device(\"cuda\" if torch.cuda.is_available() else \"cpu\")\n",
        "model = BiLSTMMultiTaskModel(embedding_matrix).to(device)\n",
        "print(model)"
      ],
      "metadata": {
        "colab": {
          "base_uri": "https://localhost:8080/"
        },
        "id": "UVWrsVb-3kgZ",
        "outputId": "b4fcbf01-0839-49ad-b638-96d8403d001f"
      },
      "execution_count": null,
      "outputs": [
        {
          "output_type": "stream",
          "name": "stdout",
          "text": [
            "BiLSTMMultiTaskModel(\n",
            "  (embedding): Embedding(3043, 400, padding_idx=0)\n",
            "  (lstm): LSTM(400, 256, batch_first=True, bidirectional=True)\n",
            "  (classifier): Linear(in_features=512, out_features=136, bias=True)\n",
            ")\n"
          ]
        }
      ]
    },
    {
      "cell_type": "code",
      "source": [
        "def masked_loss_fn(logits, labels):\n",
        "    mask = labels != 0\n",
        "    total_loss = 0\n",
        "    count = 0\n",
        "    for i in range(logits.shape[1]):\n",
        "        valid = mask[:, i]\n",
        "        if valid.any():\n",
        "            total_loss += F.cross_entropy(logits[valid, i], labels[valid, i])\n",
        "            count += 1\n",
        "    return total_loss / count if count > 0 else torch.tensor(0.0, requires_grad=True)"
      ],
      "metadata": {
        "id": "eJQ4UIiGun5G"
      },
      "execution_count": null,
      "outputs": []
    },
    {
      "cell_type": "markdown",
      "source": [
        "Train và Eval"
      ],
      "metadata": {
        "id": "C41H4ThVx0YQ"
      }
    },
    {
      "cell_type": "code",
      "source": [
        "train_dataset = RestaurantDataset(train_df, word2idx, tokenize)\n",
        "dev_dataset = RestaurantDataset(dev_df, word2idx, tokenize)\n",
        "test_dataset = RestaurantDataset(test_df, word2idx, tokenize)\n",
        "\n",
        "train_loader = DataLoader(train_dataset, batch_size=32, shuffle=True)\n",
        "dev_loader = DataLoader(dev_dataset, batch_size=32)\n",
        "test_loader = DataLoader(test_dataset, batch_size=32)\n",
        "\n",
        "num_aspects = len(ASPECT_COLUMNS)\n",
        "\n",
        "model = BiLSTMMultiTaskModel(embedding_matrix, num_aspects=num_aspects).to(device)\n",
        "device = torch.device(\"cuda\" if torch.cuda.is_available() else \"cpu\")\n",
        "model = model.to(device)\n",
        "\n",
        "optimizer = torch.optim.AdamW(model.parameters(), lr=1e-3)"
      ],
      "metadata": {
        "id": "5CBhcbpkurkb"
      },
      "execution_count": null,
      "outputs": []
    },
    {
      "cell_type": "code",
      "source": [
        "EPOCHS = 10\n",
        "for epoch in range(EPOCHS):\n",
        "    model.train()\n",
        "    train_loss = 0\n",
        "    for batch in train_loader:\n",
        "        input_ids = batch['input_ids'].to(device)\n",
        "        labels = batch['labels'].to(device)\n",
        "\n",
        "        optimizer.zero_grad()\n",
        "        logits = model(input_ids)\n",
        "        loss = masked_loss_fn(logits, labels)\n",
        "        loss.backward()\n",
        "        optimizer.step()\n",
        "\n",
        "        train_loss += loss.item()\n",
        "\n",
        "    avg_train_loss = train_loss / len(train_loader)\n",
        "    print(f\"Epoch {epoch+1}: Train Loss = {avg_train_loss:.4f}\")\n",
        "\n",
        "    model.eval()\n",
        "    dev_loss = 0\n",
        "    with torch.no_grad():\n",
        "        for batch in dev_loader:\n",
        "            input_ids = batch['input_ids'].to(device)\n",
        "            labels = batch['labels'].to(device)\n",
        "\n",
        "            logits = model(input_ids)\n",
        "            loss = masked_loss_fn(logits, labels)\n",
        "            dev_loss += loss.item()\n",
        "\n",
        "    avg_dev_loss = dev_loss / len(dev_loader)\n",
        "    print(f\"          Dev Loss = {avg_dev_loss:.4f}\")"
      ],
      "metadata": {
        "id": "qMYduyzCuuOw",
        "colab": {
          "base_uri": "https://localhost:8080/"
        },
        "outputId": "968667d8-497a-48c8-8d93-d4789a99bf38"
      },
      "execution_count": null,
      "outputs": [
        {
          "output_type": "stream",
          "name": "stdout",
          "text": [
            "Epoch 1: Train Loss = 0.7686\n",
            "          Dev Loss = 0.7626\n",
            "Epoch 2: Train Loss = 0.6628\n",
            "          Dev Loss = 0.7800\n",
            "Epoch 3: Train Loss = 0.5986\n",
            "          Dev Loss = 0.8217\n",
            "Epoch 4: Train Loss = 0.5405\n",
            "          Dev Loss = 0.8080\n",
            "Epoch 5: Train Loss = 0.4432\n",
            "          Dev Loss = 0.8070\n",
            "Epoch 6: Train Loss = 0.3631\n",
            "          Dev Loss = 0.7985\n",
            "Epoch 7: Train Loss = 0.2736\n",
            "          Dev Loss = 0.8743\n",
            "Epoch 8: Train Loss = 0.2138\n",
            "          Dev Loss = 0.9219\n",
            "Epoch 9: Train Loss = 0.1604\n",
            "          Dev Loss = 0.9530\n",
            "Epoch 10: Train Loss = 0.1219\n",
            "          Dev Loss = 1.0071\n"
          ]
        }
      ]
    },
    {
      "cell_type": "code",
      "source": [
        "model.eval()\n",
        "test_loss = 0\n",
        "with torch.no_grad():\n",
        "    for batch in test_loader:\n",
        "        input_ids = batch['input_ids'].to(device)\n",
        "        labels = batch['labels'].to(device)\n",
        "\n",
        "        logits = model(input_ids)\n",
        "        loss = masked_loss_fn(logits, labels)\n",
        "        test_loss += loss.item()\n",
        "\n",
        "avg_test_loss = test_loss / len(test_loader)\n",
        "print(f\"Test Loss = {avg_test_loss:.4f}\")"
      ],
      "metadata": {
        "id": "97lR9TMFuwET",
        "colab": {
          "base_uri": "https://localhost:8080/"
        },
        "outputId": "a969e018-d5aa-45b1-b8d0-c6e61debd520"
      },
      "execution_count": null,
      "outputs": [
        {
          "output_type": "stream",
          "name": "stdout",
          "text": [
            "Test Loss = 1.0071\n"
          ]
        }
      ]
    },
    {
      "cell_type": "code",
      "source": [
        "all_preds = []\n",
        "all_labels = []\n",
        "\n",
        "model.eval()\n",
        "with torch.no_grad():\n",
        "    for batch in test_loader:\n",
        "        input_ids = batch['input_ids'].to(device)\n",
        "        labels = batch['labels'].to(device)\n",
        "\n",
        "        logits = model(input_ids)\n",
        "        preds = torch.argmax(logits, dim=-1)\n",
        "\n",
        "        for i in range(labels.shape[0]):\n",
        "            for j in range(labels.shape[1]):\n",
        "                if labels[i, j].item() != 0:\n",
        "                    all_preds.append(preds[i, j].item())\n",
        "                    all_labels.append(labels[i, j].item())\n",
        "\n",
        "\n",
        "print(\"\\nClassification Report:\")\n",
        "target_names = [f'Class {i}' for i in range(1, 4)]\n",
        "print(classification_report(all_labels, all_preds, target_names=target_names, zero_division=0))\n",
        "\n",
        "print(f\"Accuracy: {accuracy_score(all_labels, all_preds):.4f}\")\n",
        "print(f\"Precision: {precision_score(all_labels, all_preds, average='weighted', zero_division=0):.4f}\")\n",
        "print(f\"Recall: {recall_score(all_labels, all_preds, average='weighted', zero_division=0):.4f}\")\n",
        "print(f\"F1-Score: {f1_score(all_labels, all_preds, average='weighted', zero_division=0):.4f}\")\n",
        "\n",
        "# Calculate and print confusion matrix\n",
        "conf_matrix = confusion_matrix(all_labels, all_preds)\n",
        "print(\"\\nConfusion Matrix:\")\n",
        "print(conf_matrix)\n",
        "\n",
        "# Optional: Visualize confusion matrix\n",
        "plt.figure(figsize=(8, 6))\n",
        "sns.heatmap(conf_matrix, annot=True, fmt='d', cmap='Blues', xticklabels=[1, 2, 3], yticklabels=[1, 2, 3])\n",
        "plt.xlabel('Predicted Label')\n",
        "plt.ylabel('True Label')\n",
        "plt.title('Confusion Matrix (Excluding Padding)')\n",
        "plt.show()"
      ],
      "metadata": {
        "colab": {
          "base_uri": "https://localhost:8080/",
          "height": 929
        },
        "id": "LhhaRizw5wer",
        "outputId": "054d6d3c-eb8e-4331-e097-a6def2930eb7"
      },
      "execution_count": null,
      "outputs": [
        {
          "output_type": "stream",
          "name": "stdout",
          "text": [
            "\n",
            "Classification Report:\n",
            "              precision    recall  f1-score   support\n",
            "\n",
            "     Class 1       0.81      0.91      0.86      2520\n",
            "     Class 2       0.29      0.15      0.20       231\n",
            "     Class 3       0.54      0.38      0.45       692\n",
            "\n",
            "    accuracy                           0.75      3443\n",
            "   macro avg       0.55      0.48      0.50      3443\n",
            "weighted avg       0.72      0.75      0.73      3443\n",
            "\n",
            "Accuracy: 0.7543\n",
            "Precision: 0.7214\n",
            "Recall: 0.7543\n",
            "F1-Score: 0.7314\n",
            "\n",
            "Confusion Matrix:\n",
            "[[2299   37  184]\n",
            " [ 155   35   41]\n",
            " [ 381   48  263]]\n"
          ]
        },
        {
          "output_type": "display_data",
          "data": {
            "text/plain": [
              "<Figure size 800x600 with 2 Axes>"
            ],
            "image/png": "[encoded data removed]"
          },
          "metadata": {}
        }
      ]
    },
    {
      "cell_type": "markdown",
      "source": [
        "Report"
      ],
      "metadata": {
        "id": "Y1p3pvYFx6yT"
      }
    },
    {
      "cell_type": "code",
      "source": [
        "all_preds = []\n",
        "all_labels = []\n",
        "\n",
        "model.eval()\n",
        "with torch.no_grad():\n",
        "    for batch in test_loader:\n",
        "        input_ids = batch['input_ids'].to(device)\n",
        "        labels = batch['labels'].to(device)\n",
        "\n",
        "        logits = model(input_ids)\n",
        "        preds = torch.argmax(logits, dim=-1)\n",
        "\n",
        "        all_preds.append(preds.cpu().numpy())\n",
        "        all_labels.append(labels.cpu().numpy())\n",
        "\n",
        "all_preds = np.concatenate(all_preds, axis=0).reshape(-1)\n",
        "all_labels = np.concatenate(all_labels, axis=0).reshape(-1)\n",
        "\n",
        "# Bỏ các label là 0 (không đề cập)\n",
        "mask = all_labels != 0\n",
        "filtered_preds = all_preds[mask]\n",
        "filtered_labels = all_labels[mask]\n",
        "\n",
        "print(\"Classification Report (Aspect Sentiment Classification):\")\n",
        "print(classification_report(filtered_labels, filtered_preds, digits=4, zero_division=0))"
      ],
      "metadata": {
        "colab": {
          "base_uri": "https://localhost:8080/"
        },
        "id": "Zgal5f7qvQqX",
        "outputId": "3289d665-4aa0-4190-feae-06dd57bc1da1"
      },
      "execution_count": null,
      "outputs": [
        {
          "output_type": "stream",
          "name": "stdout",
          "text": [
            "Classification Report (Aspect Sentiment Classification):\n",
            "              precision    recall  f1-score   support\n",
            "\n",
            "           1     0.8109    0.9123    0.8586      2520\n",
            "           2     0.2917    0.1515    0.1994       231\n",
            "           3     0.5389    0.3801    0.4458       692\n",
            "\n",
            "    accuracy                         0.7543      3443\n",
            "   macro avg     0.5472    0.4813    0.5013      3443\n",
            "weighted avg     0.7214    0.7543    0.7314      3443\n",
            "\n"
          ]
        }
      ]
    },
    {
      "cell_type": "code",
      "source": [
        "cm = confusion_matrix(filtered_labels, filtered_preds, labels=[1, 2, 3])\n",
        "cm_labels = [\"Positive\", \"Negative\", \"Neutral\"]\n",
        "\n",
        "# Plot the confusion matrix\n",
        "sns.heatmap(cm, annot=True, fmt='d', cmap='Blues', xticklabels=cm_labels, yticklabels=cm_labels)\n",
        "plt.title('Confusion Matrix (Sentiment Classification - Excluding Not Mentioned)')\n",
        "plt.show()"
      ],
      "metadata": {
        "colab": {
          "base_uri": "https://localhost:8080/",
          "height": 452
        },
        "id": "VHyyrLRln4wZ",
        "outputId": "8c25219c-f30c-48b4-a144-0ff0c19b69fc"
      },
      "execution_count": null,
      "outputs": [
        {
          "output_type": "display_data",
          "data": {
            "text/plain": [
              "<Figure size 640x480 with 2 Axes>"
            ],
            "image/png": "[encoded data removed]"
          },
          "metadata": {}
        }
      ]
    },
    {
      "cell_type": "code",
      "source": [
        "all_preds = []\n",
        "all_labels = []\n",
        "\n",
        "model.eval()\n",
        "with torch.no_grad():\n",
        "    for batch in test_loader:\n",
        "        input_ids = batch['input_ids'].to(device)\n",
        "        labels = batch['labels'].to(device)\n",
        "\n",
        "        logits = model(input_ids)\n",
        "        preds = torch.argmax(logits, dim=-1)\n",
        "\n",
        "        all_preds.append(preds.cpu().numpy())\n",
        "        all_labels.append(labels.cpu().numpy())\n",
        "\n",
        "all_preds = np.concatenate(all_preds, axis=0)\n",
        "all_labels = np.concatenate(all_labels, axis=0)\n",
        "\n",
        "# ===== Per-Aspect Reports =====\n",
        "for i, aspect in enumerate(ASPECT_COLUMNS):\n",
        "    print(\"=\" * 60)\n",
        "    print(f\"🔹 Aspect: {aspect}\")\n",
        "\n",
        "    true_labels = all_labels[:, i]\n",
        "    pred_labels = all_preds[:, i]\n",
        "\n",
        "    # Aspect Detection\n",
        "    aspect_true = (true_labels != 0).astype(int)\n",
        "    aspect_pred = (pred_labels != 0).astype(int)\n",
        "    print(\"\\n[Aspect Detection]\")\n",
        "    print(classification_report(\n",
        "        aspect_true, aspect_pred,\n",
        "        target_names=[\"Not Mentioned\", \"Mentioned\"],\n",
        "        zero_division=0\n",
        "    ))\n",
        "\n",
        "    # Sentiment Classification\n",
        "    true_labels = all_labels[:, i].astype(int)\n",
        "    pred_labels = all_preds[:, i].astype(int)\n",
        "\n",
        "    mask = np.isin(true_labels, [1, 2, 3])\n",
        "\n",
        "    if mask.sum() > 0:\n",
        "        sentiment_true = true_labels[mask]\n",
        "        sentiment_pred = pred_labels[mask]\n",
        "        print(\"[Sentiment Classification]\")\n",
        "        print(classification_report(\n",
        "            sentiment_true,\n",
        "            sentiment_pred,\n",
        "            target_names=[\"Positive\", \"Negative\", \"Neutral\"],\n",
        "            labels=[1, 2, 3],\n",
        "            zero_division=0\n",
        "        ))\n",
        "    else:\n",
        "        print(\"[Sentiment Classification] Không có khía cạnh nào được đề cập.\")"
      ],
      "metadata": {
        "colab": {
          "base_uri": "https://localhost:8080/"
        },
        "id": "Lx8hac_1Y3iu",
        "outputId": "420f6cd1-0a00-4e04-af82-d2dc363de39e"
      },
      "execution_count": null,
      "outputs": [
        {
          "output_type": "stream",
          "name": "stdout",
          "text": [
            "============================================================\n",
            "🔹 Aspect: AMBIENCE#GENERAL\n",
            "\n",
            "[Aspect Detection]\n",
            "               precision    recall  f1-score   support\n",
            "\n",
            "Not Mentioned       0.00      0.00      0.00      1085\n",
            "    Mentioned       0.16      1.00      0.27       205\n",
            "\n",
            "     accuracy                           0.16      1290\n",
            "    macro avg       0.08      0.50      0.14      1290\n",
            " weighted avg       0.03      0.16      0.04      1290\n",
            "\n",
            "[Sentiment Classification]\n",
            "              precision    recall  f1-score   support\n",
            "\n",
            "    Positive       0.77      0.85      0.81       149\n",
            "    Negative       0.56      0.15      0.24        33\n",
            "     Neutral       0.20      0.26      0.23        23\n",
            "\n",
            "    accuracy                           0.67       205\n",
            "   macro avg       0.51      0.42      0.42       205\n",
            "weighted avg       0.67      0.67      0.65       205\n",
            "\n",
            "============================================================\n",
            "🔹 Aspect: DRINKS#PRICES\n",
            "\n",
            "[Aspect Detection]\n",
            "               precision    recall  f1-score   support\n",
            "\n",
            "Not Mentioned       0.00      0.00      0.00      1246\n",
            "    Mentioned       0.03      1.00      0.07        44\n",
            "\n",
            "     accuracy                           0.03      1290\n",
            "    macro avg       0.02      0.50      0.03      1290\n",
            " weighted avg       0.00      0.03      0.00      1290\n",
            "\n",
            "[Sentiment Classification]\n",
            "              precision    recall  f1-score   support\n",
            "\n",
            "    Positive       0.66      0.86      0.75        29\n",
            "    Negative       0.00      0.00      0.00         2\n",
            "     Neutral       0.33      0.15      0.21        13\n",
            "\n",
            "    accuracy                           0.61        44\n",
            "   macro avg       0.33      0.34      0.32        44\n",
            "weighted avg       0.53      0.61      0.55        44\n",
            "\n",
            "============================================================\n",
            "🔹 Aspect: DRINKS#QUALITY\n",
            "\n",
            "[Aspect Detection]\n",
            "               precision    recall  f1-score   support\n",
            "\n",
            "Not Mentioned       0.00      0.00      0.00      1251\n",
            "    Mentioned       0.03      1.00      0.06        39\n",
            "\n",
            "     accuracy                           0.03      1290\n",
            "    macro avg       0.02      0.50      0.03      1290\n",
            " weighted avg       0.00      0.03      0.00      1290\n",
            "\n",
            "[Sentiment Classification]\n",
            "              precision    recall  f1-score   support\n",
            "\n",
            "    Positive       0.76      0.97      0.85        30\n",
            "    Negative       0.00      0.00      0.00         3\n",
            "     Neutral       0.00      0.00      0.00         6\n",
            "\n",
            "    accuracy                           0.74        39\n",
            "   macro avg       0.25      0.32      0.28        39\n",
            "weighted avg       0.59      0.74      0.66        39\n",
            "\n",
            "============================================================\n",
            "🔹 Aspect: DRINKS#STYLE&OPTIONS\n",
            "\n",
            "[Aspect Detection]\n",
            "               precision    recall  f1-score   support\n",
            "\n",
            "Not Mentioned       0.00      0.00      0.00      1280\n",
            "    Mentioned       0.01      1.00      0.02        10\n",
            "\n",
            "     accuracy                           0.01      1290\n",
            "    macro avg       0.00      0.50      0.01      1290\n",
            " weighted avg       0.00      0.01      0.00      1290\n",
            "\n",
            "[Sentiment Classification]\n",
            "              precision    recall  f1-score   support\n",
            "\n",
            "    Positive       0.70      1.00      0.82         7\n",
            "    Negative       0.00      0.00      0.00         3\n",
            "     Neutral       0.00      0.00      0.00         0\n",
            "\n",
            "    accuracy                           0.70        10\n",
            "   macro avg       0.23      0.33      0.27        10\n",
            "weighted avg       0.49      0.70      0.58        10\n",
            "\n",
            "============================================================\n",
            "🔹 Aspect: FOOD#PRICES\n",
            "\n",
            "[Aspect Detection]\n",
            "               precision    recall  f1-score   support\n",
            "\n",
            "Not Mentioned       0.00      0.00      0.00       566\n",
            "    Mentioned       0.56      1.00      0.72       724\n",
            "\n",
            "     accuracy                           0.56      1290\n",
            "    macro avg       0.28      0.50      0.36      1290\n",
            " weighted avg       0.31      0.56      0.40      1290\n",
            "\n",
            "[Sentiment Classification]\n",
            "              precision    recall  f1-score   support\n",
            "\n",
            "    Positive       0.64      0.71      0.67       373\n",
            "    Negative       0.36      0.31      0.33        49\n",
            "     Neutral       0.57      0.51      0.54       302\n",
            "\n",
            "    accuracy                           0.60       724\n",
            "   macro avg       0.52      0.51      0.51       724\n",
            "weighted avg       0.59      0.60      0.59       724\n",
            "\n",
            "============================================================\n",
            "🔹 Aspect: FOOD#QUALITY\n",
            "\n",
            "[Aspect Detection]\n",
            "               precision    recall  f1-score   support\n",
            "\n",
            "Not Mentioned       0.00      0.00      0.00       130\n",
            "    Mentioned       0.90      1.00      0.95      1160\n",
            "\n",
            "     accuracy                           0.90      1290\n",
            "    macro avg       0.45      0.50      0.47      1290\n",
            " weighted avg       0.81      0.90      0.85      1290\n",
            "\n",
            "[Sentiment Classification]\n",
            "              precision    recall  f1-score   support\n",
            "\n",
            "    Positive       0.91      0.97      0.94      1029\n",
            "    Negative       0.00      0.00      0.00        28\n",
            "     Neutral       0.46      0.27      0.34       103\n",
            "\n",
            "    accuracy                           0.88      1160\n",
            "   macro avg       0.46      0.41      0.43      1160\n",
            "weighted avg       0.85      0.88      0.86      1160\n",
            "\n",
            "============================================================\n",
            "🔹 Aspect: FOOD#STYLE&OPTIONS\n",
            "\n",
            "[Aspect Detection]\n",
            "               precision    recall  f1-score   support\n",
            "\n",
            "Not Mentioned       0.00      0.00      0.00       774\n",
            "    Mentioned       0.40      1.00      0.57       516\n",
            "\n",
            "     accuracy                           0.40      1290\n",
            "    macro avg       0.20      0.50      0.29      1290\n",
            " weighted avg       0.16      0.40      0.23      1290\n",
            "\n",
            "[Sentiment Classification]\n",
            "              precision    recall  f1-score   support\n",
            "\n",
            "    Positive       0.86      0.96      0.91       433\n",
            "    Negative       0.50      0.12      0.19        50\n",
            "     Neutral       0.14      0.09      0.11        33\n",
            "\n",
            "    accuracy                           0.82       516\n",
            "   macro avg       0.50      0.39      0.40       516\n",
            "weighted avg       0.78      0.82      0.79       516\n",
            "\n",
            "============================================================\n",
            "🔹 Aspect: LOCATION#GENERAL\n",
            "\n",
            "[Aspect Detection]\n",
            "               precision    recall  f1-score   support\n",
            "\n",
            "Not Mentioned       0.00      0.00      0.00      1156\n",
            "    Mentioned       0.10      1.00      0.19       134\n",
            "\n",
            "     accuracy                           0.10      1290\n",
            "    macro avg       0.05      0.50      0.09      1290\n",
            " weighted avg       0.01      0.10      0.02      1290\n",
            "\n",
            "[Sentiment Classification]\n",
            "              precision    recall  f1-score   support\n",
            "\n",
            "    Positive       0.23      0.42      0.29        24\n",
            "    Negative       0.08      0.14      0.11         7\n",
            "     Neutral       0.78      0.59      0.67       103\n",
            "\n",
            "    accuracy                           0.54       134\n",
            "   macro avg       0.36      0.38      0.36       134\n",
            "weighted avg       0.65      0.54      0.58       134\n",
            "\n",
            "============================================================\n",
            "🔹 Aspect: RESTAURANT#GENERAL\n",
            "\n",
            "[Aspect Detection]\n",
            "               precision    recall  f1-score   support\n",
            "\n",
            "Not Mentioned       0.00      0.00      0.00      1059\n",
            "    Mentioned       0.18      1.00      0.30       231\n",
            "\n",
            "     accuracy                           0.18      1290\n",
            "    macro avg       0.09      0.50      0.15      1290\n",
            " weighted avg       0.03      0.18      0.05      1290\n",
            "\n",
            "[Sentiment Classification]\n",
            "              precision    recall  f1-score   support\n",
            "\n",
            "    Positive       0.90      1.00      0.94       205\n",
            "    Negative       1.00      0.06      0.11        17\n",
            "     Neutral       0.33      0.11      0.17         9\n",
            "\n",
            "    accuracy                           0.89       231\n",
            "   macro avg       0.74      0.39      0.41       231\n",
            "weighted avg       0.88      0.89      0.85       231\n",
            "\n",
            "============================================================\n",
            "🔹 Aspect: RESTAURANT#MISCELLANEOUS\n",
            "\n",
            "[Aspect Detection]\n",
            "               precision    recall  f1-score   support\n",
            "\n",
            "Not Mentioned       0.00      0.00      0.00      1173\n",
            "    Mentioned       0.09      1.00      0.17       117\n",
            "\n",
            "     accuracy                           0.09      1290\n",
            "    macro avg       0.05      0.50      0.08      1290\n",
            " weighted avg       0.01      0.09      0.02      1290\n",
            "\n",
            "[Sentiment Classification]\n",
            "              precision    recall  f1-score   support\n",
            "\n",
            "    Positive       0.39      0.78      0.52        41\n",
            "    Negative       0.14      0.50      0.22         8\n",
            "     Neutral       0.67      0.06      0.11        68\n",
            "\n",
            "    accuracy                           0.34       117\n",
            "   macro avg       0.40      0.45      0.28       117\n",
            "weighted avg       0.53      0.34      0.26       117\n",
            "\n",
            "============================================================\n",
            "🔹 Aspect: RESTAURANT#PRICES\n",
            "\n",
            "[Aspect Detection]\n",
            "               precision    recall  f1-score   support\n",
            "\n",
            "Not Mentioned       0.00      0.00      0.00      1255\n",
            "    Mentioned       0.03      1.00      0.05        35\n",
            "\n",
            "     accuracy                           0.03      1290\n",
            "    macro avg       0.01      0.50      0.03      1290\n",
            " weighted avg       0.00      0.03      0.00      1290\n",
            "\n",
            "[Sentiment Classification]\n",
            "              precision    recall  f1-score   support\n",
            "\n",
            "    Positive       0.54      0.94      0.68        16\n",
            "    Negative       0.00      0.00      0.00         2\n",
            "     Neutral       0.60      0.18      0.27        17\n",
            "\n",
            "    accuracy                           0.51        35\n",
            "   macro avg       0.38      0.37      0.32        35\n",
            "weighted avg       0.54      0.51      0.44        35\n",
            "\n",
            "============================================================\n",
            "🔹 Aspect: SERVICE#GENERAL\n",
            "\n",
            "[Aspect Detection]\n",
            "               precision    recall  f1-score   support\n",
            "\n",
            "Not Mentioned       0.00      0.00      0.00      1062\n",
            "    Mentioned       0.18      1.00      0.30       228\n",
            "\n",
            "     accuracy                           0.18      1290\n",
            "    macro avg       0.09      0.50      0.15      1290\n",
            " weighted avg       0.03      0.18      0.05      1290\n",
            "\n",
            "[Sentiment Classification]\n",
            "              precision    recall  f1-score   support\n",
            "\n",
            "    Positive       0.82      0.95      0.88       184\n",
            "    Negative       0.23      0.10      0.14        29\n",
            "     Neutral       0.00      0.00      0.00        15\n",
            "\n",
            "    accuracy                           0.78       228\n",
            "   macro avg       0.35      0.35      0.34       228\n",
            "weighted avg       0.69      0.78      0.73       228\n",
            "\n"
          ]
        }
      ]
    },
    {
      "cell_type": "code",
      "source": [
        "# Tính F1-score (macro) cho từng aspect (sentiment classification)\n",
        "aspect_f1_scores = []\n",
        "for i, aspect in enumerate(ASPECT_COLUMNS):\n",
        "    true_labels = all_labels[:, i]\n",
        "    pred_labels = all_preds[:, i]\n",
        "    mask = true_labels != 0\n",
        "    if mask.sum() > 0:\n",
        "        f1 = f1_score(true_labels[mask], pred_labels[mask], average='macro', labels=[1, 2, 3], zero_division=0)\n",
        "    else:\n",
        "        f1 = 0.0\n",
        "    aspect_f1_scores.append((aspect, f1))\n",
        "\n",
        "# Sắp xếp theo F1 giảm dần\n",
        "aspect_f1_scores.sort(key=lambda x: x[1], reverse=True)\n",
        "aspects, f1s = zip(*aspect_f1_scores)\n",
        "\n",
        "plt.figure(figsize=(12, 6))\n",
        "bars = plt.barh(aspects, f1s, color='skyblue')\n",
        "plt.title(\"F1-score (macro) theo từng khía cạnh (Sentiment Classification)\")\n",
        "plt.gca().invert_yaxis()\n",
        "\n",
        "# Bỏ khung viền (spines)\n",
        "ax = plt.gca()\n",
        "for spine in ['top', 'right', 'left', 'bottom']:\n",
        "    ax.spines[spine].set_visible(False)\n",
        "\n",
        "# Ẩn trục X (bao gồm nhãn, vạch, và dòng trục)\n",
        "ax.get_xaxis().set_visible(False)\n",
        "\n",
        "# Hiển thị giá trị F1 bên cạnh mỗi cột\n",
        "for bar, f1 in zip(bars, f1s):\n",
        "    plt.text(bar.get_width() + 0.01, bar.get_y() + bar.get_height()/2, f\"{f1:.3f}\", va='center')\n",
        "\n",
        "plt.tight_layout()\n",
        "plt.show()"
      ],
      "metadata": {
        "colab": {
          "base_uri": "https://localhost:8080/",
          "height": 607
        },
        "id": "cDFwh_1HYK3F",
        "outputId": "13a3bb54-682a-4797-db30-71a704cf8ef8"
      },
      "execution_count": null,
      "outputs": [
        {
          "output_type": "display_data",
          "data": {
            "text/plain": [
              "<Figure size 1200x600 with 1 Axes>"
            ],
            "image/png": "[encoded data removed]"
          },
          "metadata": {}
        }
      ]
    },
    {
      "cell_type": "code",
      "source": [
        "import matplotlib.pyplot as plt\n",
        "from sklearn.metrics import accuracy_score\n",
        "\n",
        "# Tính Accuracy cho từng aspect (sentiment classification)\n",
        "aspect_accuracies = []\n",
        "for i, aspect in enumerate(ASPECT_COLUMNS):\n",
        "    true_labels = all_labels[:, i]\n",
        "    pred_labels = all_preds[:, i]\n",
        "    mask = true_labels != 0\n",
        "    if mask.sum() > 0:\n",
        "        acc = accuracy_score(true_labels[mask], pred_labels[mask])\n",
        "    else:\n",
        "        acc = 0.0\n",
        "    aspect_accuracies.append((aspect, acc))\n",
        "\n",
        "# Sắp xếp theo Accuracy giảm dần\n",
        "aspect_accuracies.sort(key=lambda x: x[1], reverse=True)\n",
        "aspects, accuracies = zip(*aspect_accuracies)\n",
        "\n",
        "# Vẽ biểu đồ\n",
        "plt.figure(figsize=(12, 6))\n",
        "bars = plt.barh(aspects, accuracies, color='lightgreen')\n",
        "plt.title(\"Accuracy theo từng khía cạnh (Sentiment Classification)\")\n",
        "plt.gca().invert_yaxis()  # Khía cạnh có Accuracy cao nhất lên đầu\n",
        "\n",
        "ax = plt.gca()\n",
        "for spine in ['top', 'right', 'left', 'bottom']:\n",
        "    ax.spines[spine].set_visible(False)\n",
        "\n",
        "ax.get_xaxis().set_visible(False)\n",
        "\n",
        "# Hiển thị giá trị Accuracy bên cạnh mỗi cột\n",
        "for bar, acc in zip(bars, accuracies):\n",
        "    plt.text(bar.get_width() + 0.01, bar.get_y() + bar.get_height()/2, f\"{acc:.3f}\", va='center')\n",
        "\n",
        "plt.tight_layout()\n",
        "plt.show()"
      ],
      "metadata": {
        "colab": {
          "base_uri": "https://localhost:8080/",
          "height": 607
        },
        "id": "TdBvkQ8R2KFI",
        "outputId": "00266fbf-0a22-4a39-d9a9-7b0544c551c7"
      },
      "execution_count": null,
      "outputs": [
        {
          "output_type": "display_data",
          "data": {
            "text/plain": [
              "<Figure size 1200x600 with 1 Axes>"
            ],
            "image/png": "[encoded data removed]"
          },
          "metadata": {}
        }
      ]
    },
    {
      "cell_type": "code",
      "source": [
        "import numpy as np\n",
        "sample_test_df = test_df.sample(n=10, random_state=42).reset_index(drop=True)\n",
        "\n",
        "# Tạo Dataset và DataLoader cho 10 câu này\n",
        "sample_dataset = RestaurantDataset(sample_test_df, word2idx, tokenize)\n",
        "sample_loader = DataLoader(sample_dataset, batch_size=10)\n",
        "\n",
        "model.eval()\n",
        "sample_preds = []\n",
        "sample_labels = []\n",
        "\n",
        "with torch.no_grad():\n",
        "    for batch in sample_loader:\n",
        "        input_ids = batch['input_ids'].to(device)\n",
        "        labels = batch['labels'].to(device)\n",
        "\n",
        "        logits = model(input_ids)\n",
        "        preds = torch.argmax(logits, dim=-1)\n",
        "\n",
        "        sample_preds.append(preds.cpu().numpy())\n",
        "        sample_labels.append(labels.cpu().numpy()) # Lưu lại label thật\n",
        "\n",
        "sample_preds = np.concatenate(sample_preds, axis=0)\n",
        "sample_labels = np.concatenate(sample_labels, axis=0)\n",
        "\n",
        "# In kết quả chi tiết cho từng câu\n",
        "LABEL_MAP_REVERSE = {v: k for k, v in LABEL_MAP.items()}\n",
        "SENTIMENT_MAP = {1: \"Positive\", 2: \"Negative\", 3: \"Neutral\", 0: \"Not Mentioned\"}\n",
        "\n",
        "print(\"=\" * 80)\n",
        "print(\"Phân tích cho 10 câu trong tập test:\")\n",
        "print(\"=\" * 80)\n",
        "\n",
        "for i in range(len(sample_test_df)):\n",
        "    review = sample_test_df.iloc[i][\"Review\"]\n",
        "    true_aspects = sample_labels[i]\n",
        "    predicted_aspects = sample_preds[i]\n",
        "\n",
        "    print(f\"\\nCâu {i+1}:\")\n",
        "    print(f\"Review: {review}\")\n",
        "    print(\"Khía cạnh và kết quả dự đoán:\")\n",
        "\n",
        "    for j, aspect in enumerate(ASPECT_COLUMNS):\n",
        "        true_label_code = true_aspects[j]\n",
        "        predicted_label_code = predicted_aspects[j]\n",
        "\n",
        "        true_label_value = LABEL_MAP_REVERSE.get(true_label_code, true_label_code)\n",
        "        predicted_label_value = LABEL_MAP_REVERSE.get(predicted_label_code, predicted_label_code)\n",
        "\n",
        "        true_sentiment = SENTIMENT_MAP.get(true_label_code, f\"Unknown ({true_label_code})\")\n",
        "        predicted_sentiment = SENTIMENT_MAP.get(predicted_label_code, f\"Unknown ({predicted_label_code})\")\n",
        "\n",
        "        # Chỉ in ra các khía cạnh có trong dữ liệu gốc (label thật khác 0) HOẶC được dự đoán là có (dự đoán khác 0)\n",
        "        if true_label_code != 0 or predicted_label_code != 0:\n",
        "             print(f\"  - {aspect}: Dự đoán = {predicted_sentiment} (Thật = {true_sentiment})\")\n",
        "\n",
        "    # Optional: Print aspects where prediction differs from true label\n",
        "    diff_aspects = [\n",
        "        ASPECT_COLUMNS[j] for j in range(len(ASPECT_COLUMNS))\n",
        "        if sample_labels[i][j] != sample_preds[i][j]\n",
        "    ]\n",
        "    if diff_aspects:\n",
        "         print(f\"  => Khác biệt ở các khía cạnh: {', '.join(diff_aspects)}\")\n",
        "\n",
        "print(\"=\" * 80)\n"
      ],
      "metadata": {
        "colab": {
          "base_uri": "https://localhost:8080/"
        },
        "id": "B1OK6xk-66n8",
        "outputId": "eb4e027d-fa4e-4d58-87a0-d2deca644f7c"
      },
      "execution_count": null,
      "outputs": [
        {
          "output_type": "stream",
          "name": "stdout",
          "text": [
            "================================================================================\n",
            "Phân tích cho 10 câu trong tập test:\n",
            "================================================================================\n",
            "\n",
            "Câu 1:\n",
            "Review: Cả cái nồi lẩu này mà có 250k thôi ak , thấy sao rẻ hều vậy . Nhưng ăn thì không phải kiểu rẻ là kém chất_lượng đâu , nhiều riêu cua lắm đó , cái nồi bọn mình đi 4 đứa thấy ăn vừa đủ bụng nhé . Ăn nướng đẫy mồm xong quẩy thêm nồi lẩu này chốt hạ là vừa đẹp . Nướng bọn mình ăn hết tầm 400k + 250k nồi lẩu này nữa , tính ra mỗi đứa chưa đến 200k mà ăn_uống đẫy mồm\n",
            "Khía cạnh và kết quả dự đoán:\n",
            "  - AMBIENCE#GENERAL: Dự đoán = Positive (Thật = Not Mentioned)\n",
            "  - DRINKS#PRICES: Dự đoán = Neutral (Thật = Not Mentioned)\n",
            "  - DRINKS#QUALITY: Dự đoán = Positive (Thật = Not Mentioned)\n",
            "  - DRINKS#STYLE&OPTIONS: Dự đoán = Positive (Thật = Not Mentioned)\n",
            "  - FOOD#PRICES: Dự đoán = Positive (Thật = Positive)\n",
            "  - FOOD#QUALITY: Dự đoán = Positive (Thật = Not Mentioned)\n",
            "  - FOOD#STYLE&OPTIONS: Dự đoán = Neutral (Thật = Positive)\n",
            "  - LOCATION#GENERAL: Dự đoán = Positive (Thật = Not Mentioned)\n",
            "  - RESTAURANT#GENERAL: Dự đoán = Positive (Thật = Not Mentioned)\n",
            "  - RESTAURANT#MISCELLANEOUS: Dự đoán = Negative (Thật = Not Mentioned)\n",
            "  - RESTAURANT#PRICES: Dự đoán = Positive (Thật = Not Mentioned)\n",
            "  - SERVICE#GENERAL: Dự đoán = Positive (Thật = Not Mentioned)\n",
            "  => Khác biệt ở các khía cạnh: AMBIENCE#GENERAL, DRINKS#PRICES, DRINKS#QUALITY, DRINKS#STYLE&OPTIONS, FOOD#QUALITY, FOOD#STYLE&OPTIONS, LOCATION#GENERAL, RESTAURANT#GENERAL, RESTAURANT#MISCELLANEOUS, RESTAURANT#PRICES, SERVICE#GENERAL\n",
            "\n",
            "Câu 2:\n",
            "Review: Cận_cảnh suất cơm tấm khá chuẩn Sài thành ở Gòn nè . Suất có sườn nướng tẩm ướp đậm_đà , rau củ chua_ngọt ( mà SG gọi là đồ chưa đó ) cùng cơm tấm dẻo dẻo thơm thơm . Có_thể gọi thêm bì như suất trong hình hoặc chả trứng cũng ngon lắm nha . Mỗi suất đi kèm bát nước_chấm chua_ngọt và 1 bát canh nữa . Buổi trưa làm suất cơm này là đầy_đủ năng_lượng làm_việc cả buổi chiều , quán sạch_sẽ có_điều hoà nữa 😍\n",
            "Khía cạnh và kết quả dự đoán:\n",
            "  - AMBIENCE#GENERAL: Dự đoán = Positive (Thật = Positive)\n",
            "  - DRINKS#PRICES: Dự đoán = Positive (Thật = Not Mentioned)\n",
            "  - DRINKS#QUALITY: Dự đoán = Positive (Thật = Not Mentioned)\n",
            "  - DRINKS#STYLE&OPTIONS: Dự đoán = Positive (Thật = Not Mentioned)\n",
            "  - FOOD#PRICES: Dự đoán = Positive (Thật = Not Mentioned)\n",
            "  - FOOD#QUALITY: Dự đoán = Positive (Thật = Positive)\n",
            "  - FOOD#STYLE&OPTIONS: Dự đoán = Positive (Thật = Not Mentioned)\n",
            "  - LOCATION#GENERAL: Dự đoán = Positive (Thật = Not Mentioned)\n",
            "  - RESTAURANT#GENERAL: Dự đoán = Positive (Thật = Not Mentioned)\n",
            "  - RESTAURANT#MISCELLANEOUS: Dự đoán = Positive (Thật = Not Mentioned)\n",
            "  - RESTAURANT#PRICES: Dự đoán = Positive (Thật = Not Mentioned)\n",
            "  - SERVICE#GENERAL: Dự đoán = Positive (Thật = Not Mentioned)\n",
            "  => Khác biệt ở các khía cạnh: DRINKS#PRICES, DRINKS#QUALITY, DRINKS#STYLE&OPTIONS, FOOD#PRICES, FOOD#STYLE&OPTIONS, LOCATION#GENERAL, RESTAURANT#GENERAL, RESTAURANT#MISCELLANEOUS, RESTAURANT#PRICES, SERVICE#GENERAL\n",
            "\n",
            "Câu 3:\n",
            "Review: Ăn đã_đời mọc luôn ^ . ^ Mỗi_tội quán hơi bé 1 chút\n",
            "Khía cạnh và kết quả dự đoán:\n",
            "  - AMBIENCE#GENERAL: Dự đoán = Neutral (Thật = Negative)\n",
            "  - DRINKS#PRICES: Dự đoán = Positive (Thật = Not Mentioned)\n",
            "  - DRINKS#QUALITY: Dự đoán = Positive (Thật = Not Mentioned)\n",
            "  - DRINKS#STYLE&OPTIONS: Dự đoán = Positive (Thật = Not Mentioned)\n",
            "  - FOOD#PRICES: Dự đoán = Negative (Thật = Not Mentioned)\n",
            "  - FOOD#QUALITY: Dự đoán = Positive (Thật = Not Mentioned)\n",
            "  - FOOD#STYLE&OPTIONS: Dự đoán = Positive (Thật = Positive)\n",
            "  - LOCATION#GENERAL: Dự đoán = Positive (Thật = Not Mentioned)\n",
            "  - RESTAURANT#GENERAL: Dự đoán = Positive (Thật = Not Mentioned)\n",
            "  - RESTAURANT#MISCELLANEOUS: Dự đoán = Negative (Thật = Not Mentioned)\n",
            "  - RESTAURANT#PRICES: Dự đoán = Positive (Thật = Not Mentioned)\n",
            "  - SERVICE#GENERAL: Dự đoán = Positive (Thật = Not Mentioned)\n",
            "  => Khác biệt ở các khía cạnh: AMBIENCE#GENERAL, DRINKS#PRICES, DRINKS#QUALITY, DRINKS#STYLE&OPTIONS, FOOD#PRICES, FOOD#QUALITY, LOCATION#GENERAL, RESTAURANT#GENERAL, RESTAURANT#MISCELLANEOUS, RESTAURANT#PRICES, SERVICE#GENERAL\n",
            "\n",
            "Câu 4:\n",
            "Review: # lozi Rẻ nè , 120 k / đĩa : 3 chấm_mút đến giọt cuối_cùng\n",
            "Khía cạnh và kết quả dự đoán:\n",
            "  - AMBIENCE#GENERAL: Dự đoán = Positive (Thật = Not Mentioned)\n",
            "  - DRINKS#PRICES: Dự đoán = Positive (Thật = Not Mentioned)\n",
            "  - DRINKS#QUALITY: Dự đoán = Positive (Thật = Not Mentioned)\n",
            "  - DRINKS#STYLE&OPTIONS: Dự đoán = Positive (Thật = Not Mentioned)\n",
            "  - FOOD#PRICES: Dự đoán = Positive (Thật = Positive)\n",
            "  - FOOD#QUALITY: Dự đoán = Positive (Thật = Positive)\n",
            "  - FOOD#STYLE&OPTIONS: Dự đoán = Positive (Thật = Not Mentioned)\n",
            "  - LOCATION#GENERAL: Dự đoán = Neutral (Thật = Not Mentioned)\n",
            "  - RESTAURANT#GENERAL: Dự đoán = Positive (Thật = Not Mentioned)\n",
            "  - RESTAURANT#MISCELLANEOUS: Dự đoán = Positive (Thật = Not Mentioned)\n",
            "  - RESTAURANT#PRICES: Dự đoán = Positive (Thật = Not Mentioned)\n",
            "  - SERVICE#GENERAL: Dự đoán = Positive (Thật = Not Mentioned)\n",
            "  => Khác biệt ở các khía cạnh: AMBIENCE#GENERAL, DRINKS#PRICES, DRINKS#QUALITY, DRINKS#STYLE&OPTIONS, FOOD#STYLE&OPTIONS, LOCATION#GENERAL, RESTAURANT#GENERAL, RESTAURANT#MISCELLANEOUS, RESTAURANT#PRICES, SERVICE#GENERAL\n",
            "\n",
            "Câu 5:\n",
            "Review: # hand # lozi Party siêu siêu_thịt , ngon quá_xá , lại thêm 1 chỗ nướng ngon rồi : x : x\n",
            "Khía cạnh và kết quả dự đoán:\n",
            "  - AMBIENCE#GENERAL: Dự đoán = Positive (Thật = Not Mentioned)\n",
            "  - DRINKS#PRICES: Dự đoán = Positive (Thật = Not Mentioned)\n",
            "  - DRINKS#QUALITY: Dự đoán = Positive (Thật = Not Mentioned)\n",
            "  - DRINKS#STYLE&OPTIONS: Dự đoán = Positive (Thật = Not Mentioned)\n",
            "  - FOOD#PRICES: Dự đoán = Positive (Thật = Not Mentioned)\n",
            "  - FOOD#QUALITY: Dự đoán = Positive (Thật = Positive)\n",
            "  - FOOD#STYLE&OPTIONS: Dự đoán = Positive (Thật = Not Mentioned)\n",
            "  - LOCATION#GENERAL: Dự đoán = Negative (Thật = Not Mentioned)\n",
            "  - RESTAURANT#GENERAL: Dự đoán = Positive (Thật = Not Mentioned)\n",
            "  - RESTAURANT#MISCELLANEOUS: Dự đoán = Positive (Thật = Not Mentioned)\n",
            "  - RESTAURANT#PRICES: Dự đoán = Positive (Thật = Not Mentioned)\n",
            "  - SERVICE#GENERAL: Dự đoán = Positive (Thật = Not Mentioned)\n",
            "  => Khác biệt ở các khía cạnh: AMBIENCE#GENERAL, DRINKS#PRICES, DRINKS#QUALITY, DRINKS#STYLE&OPTIONS, FOOD#PRICES, FOOD#STYLE&OPTIONS, LOCATION#GENERAL, RESTAURANT#GENERAL, RESTAURANT#MISCELLANEOUS, RESTAURANT#PRICES, SERVICE#GENERAL\n",
            "\n",
            "Câu 6:\n",
            "Review: | L U N C H | Mình hay ăn bánh_đa cá ở phố Quán_Thánh . Nước dùng ngọt , thịt cá mềm , tôm tươi ngon mà chả cá ăn cũng ngon nữa ☺️ Có bún / bánh_đa cá ( rán / chần ) . Mình thích ăn cá rán tại nó giòn nhưng cá chần cũng ngọt lắm luôn ạ 😌 Ở đấy có 2 hàng cạnh nhau . Bún cá Huyền dành cho những bạn ăn được chua bởi nước dùng đc cô chủ nấu chua ( giải_thích nghe hơi ngu nhưng nếu k nói rõ các cậu kb chua bởi cgi 😅 ) . Ngoài_ra thì hàng này có_điều hoà = ) ) ) ) Còn bún cá Văn bên cạnh thì không có gì để chê luôn rồi nhưng_mà trớ_trêu lại không có_điều hoà đâu hic 😭 Dù_sao thì mình thấy ăn cả 2 hàng đểu ổn , nếu thấy ít rau các cậu có_thể gọi thêm rau chần đó ạ ☺️☺️☺️ Có từ 10h30 đến khoảng 1h30 nhaaa ❤️❤️ 105 Quán_Thánh nhaaaa\n",
            "Khía cạnh và kết quả dự đoán:\n",
            "  - AMBIENCE#GENERAL: Dự đoán = Positive (Thật = Positive)\n",
            "  - DRINKS#PRICES: Dự đoán = Positive (Thật = Not Mentioned)\n",
            "  - DRINKS#QUALITY: Dự đoán = Positive (Thật = Not Mentioned)\n",
            "  - DRINKS#STYLE&OPTIONS: Dự đoán = Positive (Thật = Not Mentioned)\n",
            "  - FOOD#PRICES: Dự đoán = Positive (Thật = Not Mentioned)\n",
            "  - FOOD#QUALITY: Dự đoán = Positive (Thật = Positive)\n",
            "  - FOOD#STYLE&OPTIONS: Dự đoán = Positive (Thật = Not Mentioned)\n",
            "  - LOCATION#GENERAL: Dự đoán = Neutral (Thật = Neutral)\n",
            "  - RESTAURANT#GENERAL: Dự đoán = Positive (Thật = Positive)\n",
            "  - RESTAURANT#MISCELLANEOUS: Dự đoán = Positive (Thật = Neutral)\n",
            "  - RESTAURANT#PRICES: Dự đoán = Positive (Thật = Not Mentioned)\n",
            "  - SERVICE#GENERAL: Dự đoán = Positive (Thật = Not Mentioned)\n",
            "  => Khác biệt ở các khía cạnh: DRINKS#PRICES, DRINKS#QUALITY, DRINKS#STYLE&OPTIONS, FOOD#PRICES, FOOD#STYLE&OPTIONS, RESTAURANT#MISCELLANEOUS, RESTAURANT#PRICES, SERVICE#GENERAL\n",
            "\n",
            "Câu 7:\n",
            "Review: Ăn cũng ok , thịt bò cho hơi ít tí . 1 phần có phở xào , cải , thịt bò , hành_tây . Nước_chấm pha ok . Thịt bò ko dai nhưng cho hơi ít . Phở xào cho cũng nhiều . Cải xào vừa chín tới.Giá hơi cao so với chất_lượng , 2 người hết 80 k.Mình thích mấy quán khác hơn . @ Bui_Tuan_Viet\n",
            "Khía cạnh và kết quả dự đoán:\n",
            "  - AMBIENCE#GENERAL: Dự đoán = Neutral (Thật = Not Mentioned)\n",
            "  - DRINKS#PRICES: Dự đoán = Neutral (Thật = Not Mentioned)\n",
            "  - DRINKS#QUALITY: Dự đoán = Positive (Thật = Not Mentioned)\n",
            "  - DRINKS#STYLE&OPTIONS: Dự đoán = Positive (Thật = Not Mentioned)\n",
            "  - FOOD#PRICES: Dự đoán = Negative (Thật = Negative)\n",
            "  - FOOD#QUALITY: Dự đoán = Neutral (Thật = Positive)\n",
            "  - FOOD#STYLE&OPTIONS: Dự đoán = Neutral (Thật = Negative)\n",
            "  - LOCATION#GENERAL: Dự đoán = Negative (Thật = Not Mentioned)\n",
            "  - RESTAURANT#GENERAL: Dự đoán = Neutral (Thật = Negative)\n",
            "  - RESTAURANT#MISCELLANEOUS: Dự đoán = Positive (Thật = Not Mentioned)\n",
            "  - RESTAURANT#PRICES: Dự đoán = Negative (Thật = Not Mentioned)\n",
            "  - SERVICE#GENERAL: Dự đoán = Positive (Thật = Not Mentioned)\n",
            "  => Khác biệt ở các khía cạnh: AMBIENCE#GENERAL, DRINKS#PRICES, DRINKS#QUALITY, DRINKS#STYLE&OPTIONS, FOOD#QUALITY, FOOD#STYLE&OPTIONS, LOCATION#GENERAL, RESTAURANT#GENERAL, RESTAURANT#MISCELLANEOUS, RESTAURANT#PRICES, SERVICE#GENERAL\n",
            "\n",
            "Câu 8:\n",
            "Review: Bún ngan nước dùng ngọt thanh , măng tươi cho nhiều ăn sật sật đã gì đâu . Thịt ngan chặt miếng to nè , thịt mềm ăn ngon lắm , chấm nước_chấm của quán nữa là hết_biết kkk . 2 người chỉ 70k quá ổn ^ ^ .\n",
            "Khía cạnh và kết quả dự đoán:\n",
            "  - AMBIENCE#GENERAL: Dự đoán = Positive (Thật = Not Mentioned)\n",
            "  - DRINKS#PRICES: Dự đoán = Positive (Thật = Not Mentioned)\n",
            "  - DRINKS#QUALITY: Dự đoán = Positive (Thật = Not Mentioned)\n",
            "  - DRINKS#STYLE&OPTIONS: Dự đoán = Positive (Thật = Not Mentioned)\n",
            "  - FOOD#PRICES: Dự đoán = Neutral (Thật = Positive)\n",
            "  - FOOD#QUALITY: Dự đoán = Positive (Thật = Positive)\n",
            "  - FOOD#STYLE&OPTIONS: Dự đoán = Positive (Thật = Positive)\n",
            "  - LOCATION#GENERAL: Dự đoán = Neutral (Thật = Not Mentioned)\n",
            "  - RESTAURANT#GENERAL: Dự đoán = Positive (Thật = Not Mentioned)\n",
            "  - RESTAURANT#MISCELLANEOUS: Dự đoán = Positive (Thật = Not Mentioned)\n",
            "  - RESTAURANT#PRICES: Dự đoán = Positive (Thật = Not Mentioned)\n",
            "  - SERVICE#GENERAL: Dự đoán = Positive (Thật = Not Mentioned)\n",
            "  => Khác biệt ở các khía cạnh: AMBIENCE#GENERAL, DRINKS#PRICES, DRINKS#QUALITY, DRINKS#STYLE&OPTIONS, FOOD#PRICES, LOCATION#GENERAL, RESTAURANT#GENERAL, RESTAURANT#MISCELLANEOUS, RESTAURANT#PRICES, SERVICE#GENERAL\n",
            "\n",
            "Câu 9:\n",
            "Review: Bánh khá ngon lúc ăn mới bắt_đầu làm_nên đợi hơi lâu nhưng giá SV ăn cũng OK giá SV , mình ko nhớ địa_chỉ tầm số 120 mấy chùa láng thì phải\n",
            "Khía cạnh và kết quả dự đoán:\n",
            "  - AMBIENCE#GENERAL: Dự đoán = Neutral (Thật = Not Mentioned)\n",
            "  - DRINKS#PRICES: Dự đoán = Neutral (Thật = Not Mentioned)\n",
            "  - DRINKS#QUALITY: Dự đoán = Positive (Thật = Not Mentioned)\n",
            "  - DRINKS#STYLE&OPTIONS: Dự đoán = Positive (Thật = Not Mentioned)\n",
            "  - FOOD#PRICES: Dự đoán = Negative (Thật = Positive)\n",
            "  - FOOD#QUALITY: Dự đoán = Positive (Thật = Positive)\n",
            "  - FOOD#STYLE&OPTIONS: Dự đoán = Neutral (Thật = Not Mentioned)\n",
            "  - LOCATION#GENERAL: Dự đoán = Negative (Thật = Not Mentioned)\n",
            "  - RESTAURANT#GENERAL: Dự đoán = Positive (Thật = Not Mentioned)\n",
            "  - RESTAURANT#MISCELLANEOUS: Dự đoán = Negative (Thật = Not Mentioned)\n",
            "  - RESTAURANT#PRICES: Dự đoán = Neutral (Thật = Not Mentioned)\n",
            "  - SERVICE#GENERAL: Dự đoán = Neutral (Thật = Not Mentioned)\n",
            "  => Khác biệt ở các khía cạnh: AMBIENCE#GENERAL, DRINKS#PRICES, DRINKS#QUALITY, DRINKS#STYLE&OPTIONS, FOOD#PRICES, FOOD#STYLE&OPTIONS, LOCATION#GENERAL, RESTAURANT#GENERAL, RESTAURANT#MISCELLANEOUS, RESTAURANT#PRICES, SERVICE#GENERAL\n",
            "\n",
            "Câu 10:\n",
            "Review: # bánhđatôm thật_ra thì ăn bánh_đa vs bún ngon hơn hay không thì tuỳ khẩu_vị mỗi người , riêng mình thì mình thích ăn bánh_đa , nhưng_mà ăn cũng đc chứ không phải quá đặc_sắc , gia da động tầm 35-40 k\n",
            "Khía cạnh và kết quả dự đoán:\n",
            "  - AMBIENCE#GENERAL: Dự đoán = Positive (Thật = Not Mentioned)\n",
            "  - DRINKS#PRICES: Dự đoán = Neutral (Thật = Not Mentioned)\n",
            "  - DRINKS#QUALITY: Dự đoán = Positive (Thật = Not Mentioned)\n",
            "  - DRINKS#STYLE&OPTIONS: Dự đoán = Positive (Thật = Not Mentioned)\n",
            "  - FOOD#PRICES: Dự đoán = Neutral (Thật = Neutral)\n",
            "  - FOOD#QUALITY: Dự đoán = Positive (Thật = Neutral)\n",
            "  - FOOD#STYLE&OPTIONS: Dự đoán = Neutral (Thật = Not Mentioned)\n",
            "  - LOCATION#GENERAL: Dự đoán = Neutral (Thật = Not Mentioned)\n",
            "  - RESTAURANT#GENERAL: Dự đoán = Positive (Thật = Not Mentioned)\n",
            "  - RESTAURANT#MISCELLANEOUS: Dự đoán = Positive (Thật = Not Mentioned)\n",
            "  - RESTAURANT#PRICES: Dự đoán = Neutral (Thật = Not Mentioned)\n",
            "  - SERVICE#GENERAL: Dự đoán = Positive (Thật = Not Mentioned)\n",
            "  => Khác biệt ở các khía cạnh: AMBIENCE#GENERAL, DRINKS#PRICES, DRINKS#QUALITY, DRINKS#STYLE&OPTIONS, FOOD#QUALITY, FOOD#STYLE&OPTIONS, LOCATION#GENERAL, RESTAURANT#GENERAL, RESTAURANT#MISCELLANEOUS, RESTAURANT#PRICES, SERVICE#GENERAL\n",
            "================================================================================\n"
          ]
        }
      ]
    },
    {
      "cell_type": "code",
      "source": [
        "# Test với 1 câu\n",
        "def predict_sentiment(text, model, word2idx, tokenizer, ASPECT_COLUMNS, max_len=100):\n",
        "    model.eval()\n",
        "    with torch.no_grad():\n",
        "        tokens = tokenizer(text)\n",
        "        ids = [word2idx.get(tok, word2idx[\"<unk>\"]) for tok in tokens]\n",
        "        if len(ids) < max_len:\n",
        "            ids += [word2idx[\"<pad>\"]] * (max_len - len(ids))\n",
        "        else:\n",
        "            ids = ids[:max_len]\n",
        "\n",
        "        input_tensor = torch.tensor([ids], dtype=torch.long).to(device)\n",
        "\n",
        "        logits = model(input_tensor)\n",
        "        preds = torch.argmax(logits, dim=-1).squeeze(0).cpu().numpy()\n",
        "\n",
        "        sentiment_map = {0: \"Not Mentioned\", 1: \"Positive\", 2: \"Negative\", 3: \"Neutral\"}\n",
        "        results = {}\n",
        "        for i, aspect in enumerate(ASPECT_COLUMNS):\n",
        "            results[aspect] = sentiment_map[preds[i]]\n",
        "        return results\n",
        "\n",
        "# Nhập câu từ người dùng\n",
        "input_sentence = input(\"Nhập câu bạn muốn phân tích: \")\n",
        "\n",
        "# Dự đoán và in kết quả\n",
        "prediction_results = predict_sentiment(input_sentence, model, word2idx, tokenize, ASPECT_COLUMNS)\n",
        "\n",
        "print(\"\\nKết quả phân tích:\")\n",
        "for aspect, sentiment in prediction_results.items():\n",
        "    print(f\"- {aspect}: {sentiment}\")"
      ],
      "metadata": {
        "colab": {
          "base_uri": "https://localhost:8080/"
        },
        "id": "LuXG5lLC6A8O",
        "outputId": "4694c50d-9d2c-463d-d18d-b95d2a0e0e11"
      },
      "execution_count": null,
      "outputs": [
        {
          "output_type": "stream",
          "name": "stdout",
          "text": [
            "Nhập câu bạn muốn phân tích: Ăn đã_đời mọc luôn ^ . ^ Mỗi_tội quán hơi bé 1 chút\n",
            "\n",
            "Kết quả phân tích:\n",
            "- AMBIENCE#GENERAL: Neutral\n",
            "- DRINKS#PRICES: Positive\n",
            "- DRINKS#QUALITY: Positive\n",
            "- DRINKS#STYLE&OPTIONS: Positive\n",
            "- FOOD#PRICES: Negative\n",
            "- FOOD#QUALITY: Positive\n",
            "- FOOD#STYLE&OPTIONS: Positive\n",
            "- LOCATION#GENERAL: Positive\n",
            "- RESTAURANT#GENERAL: Positive\n",
            "- RESTAURANT#MISCELLANEOUS: Negative\n",
            "- RESTAURANT#PRICES: Positive\n",
            "- SERVICE#GENERAL: Positive\n"
          ]
        }
      ]
    }
  ]
}